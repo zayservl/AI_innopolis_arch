{
  "nbformat": 4,
  "nbformat_minor": 0,
  "metadata": {
    "colab": {
      "provenance": []
    },
    "kernelspec": {
      "name": "python3",
      "display_name": "Python 3"
    },
    "language_info": {
      "name": "python"
    }
  },
  "cells": [
    {
      "cell_type": "markdown",
      "source": [
        "**Всем нам нужен мир и счастье!**\n",
        "\n",
        "Использовался вот этот датасет для выполнения ДЗ https://www.kaggle.com/datasets/konradb/global-peace-index"
      ],
      "metadata": {
        "id": "QejPqL4mU4Vm"
      }
    },
    {
      "cell_type": "code",
      "source": [
        "import pandas as pd\n",
        "import numpy as np\n",
        "import scipy.stats as stats\n",
        "import matplotlib.pyplot as plt\n",
        "import seaborn as sns\n"
      ],
      "metadata": {
        "id": "taR2-6P1VDEj"
      },
      "execution_count": null,
      "outputs": []
    },
    {
      "cell_type": "code",
      "source": [
        "df_data = pd.read_csv('peace_index.csv', sep = ';')\n",
        "df_data.replace(',','.', inplace=True)\n",
        "df_data"
      ],
      "metadata": {
        "colab": {
          "base_uri": "https://localhost:8080/",
          "height": 424
        },
        "id": "2nggfCkLW2WJ",
        "outputId": "fbae5ab5-8322-43ff-beb8-e8296403f4b4"
      },
      "execution_count": null,
      "outputs": [
        {
          "output_type": "execute_result",
          "data": {
            "text/plain": [
              "                  Country iso3c   2008   2009   2010   2011   2012   2013  \\\n",
              "0             Afghanistan   AFG  3.153  3.246  3.087  3.038  3.069  3.101   \n",
              "1                  Angola   AGO  1.655  1.827  1.615  1.816  1.615  1.615   \n",
              "2                 Albania   ALB  1.247  1.270  1.293  1.293  1.293  1.282   \n",
              "3    United Arab Emirates   ARE  1.000  1.000  1.000  1.213  1.238  1.241   \n",
              "4               Argentina   ARG  1.403  1.604  1.604  1.403  1.403  1.604   \n",
              "..                    ...   ...    ...    ...    ...    ...    ...    ...   \n",
              "158               Vietnam   VNM  1.302  1.302  1.302  1.302  1.302  1.403   \n",
              "159                 Yemen   YEM  2.012  2.012  2.201  2.233  2.261  2.474   \n",
              "160          South Africa   ZAF  1.403  1.805  1.805  1.805  1.805  1.805   \n",
              "161                Zambia   ZMB  1.201  1.201  1.201  1.000  1.000  1.000   \n",
              "162              Zimbabwe   ZWE  2.006  2.308  2.261  2.012  2.012  2.058   \n",
              "\n",
              "      2014   2015   2016   2017   2018   2019   2020   2021   2022   2023  \n",
              "0    3.095  3.108  3.369  3.480  3.513  3.636  3.626  3.626  3.626  3.434  \n",
              "1    1.609  1.408  1.403  1.403  1.610  1.615  1.413  1.621  1.608  1.639  \n",
              "2    1.270  1.259  1.259  1.247  1.236  1.224  1.414  1.403  1.403  1.403  \n",
              "3    1.253  1.264  1.477  1.517  1.563  1.598  1.833  1.701  1.689  1.678  \n",
              "4    1.403  1.403  1.403  1.403  1.201  1.201  1.201  1.201  1.201  1.201  \n",
              "..     ...    ...    ...    ...    ...    ...    ...    ...    ...    ...  \n",
              "158  1.403  1.403  1.403  1.421  1.421  1.421  1.421  1.421  1.403  1.403  \n",
              "159  2.543  2.596  2.964  3.417  3.368  3.603  3.501  3.377  3.354  3.486  \n",
              "160  1.805  1.906  1.760  1.760  1.760  1.824  1.772  1.745  1.818  2.083  \n",
              "161  1.201  1.201  1.220  1.238  1.238  1.256  1.286  1.700  1.520  1.577  \n",
              "162  1.857  1.851  1.851  1.851  1.805  2.006  2.006  2.006  2.006  2.006  \n",
              "\n",
              "[163 rows x 18 columns]"
            ],
            "text/html": [
              "\n",
              "  <div id=\"df-0c8a14e0-37ec-4a6d-966f-5f0e8840cae5\">\n",
              "    <div class=\"colab-df-container\">\n",
              "      <div>\n",
              "<style scoped>\n",
              "    .dataframe tbody tr th:only-of-type {\n",
              "        vertical-align: middle;\n",
              "    }\n",
              "\n",
              "    .dataframe tbody tr th {\n",
              "        vertical-align: top;\n",
              "    }\n",
              "\n",
              "    .dataframe thead th {\n",
              "        text-align: right;\n",
              "    }\n",
              "</style>\n",
              "<table border=\"1\" class=\"dataframe\">\n",
              "  <thead>\n",
              "    <tr style=\"text-align: right;\">\n",
              "      <th></th>\n",
              "      <th>Country</th>\n",
              "      <th>iso3c</th>\n",
              "      <th>2008</th>\n",
              "      <th>2009</th>\n",
              "      <th>2010</th>\n",
              "      <th>2011</th>\n",
              "      <th>2012</th>\n",
              "      <th>2013</th>\n",
              "      <th>2014</th>\n",
              "      <th>2015</th>\n",
              "      <th>2016</th>\n",
              "      <th>2017</th>\n",
              "      <th>2018</th>\n",
              "      <th>2019</th>\n",
              "      <th>2020</th>\n",
              "      <th>2021</th>\n",
              "      <th>2022</th>\n",
              "      <th>2023</th>\n",
              "    </tr>\n",
              "  </thead>\n",
              "  <tbody>\n",
              "    <tr>\n",
              "      <th>0</th>\n",
              "      <td>Afghanistan</td>\n",
              "      <td>AFG</td>\n",
              "      <td>3.153</td>\n",
              "      <td>3.246</td>\n",
              "      <td>3.087</td>\n",
              "      <td>3.038</td>\n",
              "      <td>3.069</td>\n",
              "      <td>3.101</td>\n",
              "      <td>3.095</td>\n",
              "      <td>3.108</td>\n",
              "      <td>3.369</td>\n",
              "      <td>3.480</td>\n",
              "      <td>3.513</td>\n",
              "      <td>3.636</td>\n",
              "      <td>3.626</td>\n",
              "      <td>3.626</td>\n",
              "      <td>3.626</td>\n",
              "      <td>3.434</td>\n",
              "    </tr>\n",
              "    <tr>\n",
              "      <th>1</th>\n",
              "      <td>Angola</td>\n",
              "      <td>AGO</td>\n",
              "      <td>1.655</td>\n",
              "      <td>1.827</td>\n",
              "      <td>1.615</td>\n",
              "      <td>1.816</td>\n",
              "      <td>1.615</td>\n",
              "      <td>1.615</td>\n",
              "      <td>1.609</td>\n",
              "      <td>1.408</td>\n",
              "      <td>1.403</td>\n",
              "      <td>1.403</td>\n",
              "      <td>1.610</td>\n",
              "      <td>1.615</td>\n",
              "      <td>1.413</td>\n",
              "      <td>1.621</td>\n",
              "      <td>1.608</td>\n",
              "      <td>1.639</td>\n",
              "    </tr>\n",
              "    <tr>\n",
              "      <th>2</th>\n",
              "      <td>Albania</td>\n",
              "      <td>ALB</td>\n",
              "      <td>1.247</td>\n",
              "      <td>1.270</td>\n",
              "      <td>1.293</td>\n",
              "      <td>1.293</td>\n",
              "      <td>1.293</td>\n",
              "      <td>1.282</td>\n",
              "      <td>1.270</td>\n",
              "      <td>1.259</td>\n",
              "      <td>1.259</td>\n",
              "      <td>1.247</td>\n",
              "      <td>1.236</td>\n",
              "      <td>1.224</td>\n",
              "      <td>1.414</td>\n",
              "      <td>1.403</td>\n",
              "      <td>1.403</td>\n",
              "      <td>1.403</td>\n",
              "    </tr>\n",
              "    <tr>\n",
              "      <th>3</th>\n",
              "      <td>United Arab Emirates</td>\n",
              "      <td>ARE</td>\n",
              "      <td>1.000</td>\n",
              "      <td>1.000</td>\n",
              "      <td>1.000</td>\n",
              "      <td>1.213</td>\n",
              "      <td>1.238</td>\n",
              "      <td>1.241</td>\n",
              "      <td>1.253</td>\n",
              "      <td>1.264</td>\n",
              "      <td>1.477</td>\n",
              "      <td>1.517</td>\n",
              "      <td>1.563</td>\n",
              "      <td>1.598</td>\n",
              "      <td>1.833</td>\n",
              "      <td>1.701</td>\n",
              "      <td>1.689</td>\n",
              "      <td>1.678</td>\n",
              "    </tr>\n",
              "    <tr>\n",
              "      <th>4</th>\n",
              "      <td>Argentina</td>\n",
              "      <td>ARG</td>\n",
              "      <td>1.403</td>\n",
              "      <td>1.604</td>\n",
              "      <td>1.604</td>\n",
              "      <td>1.403</td>\n",
              "      <td>1.403</td>\n",
              "      <td>1.604</td>\n",
              "      <td>1.403</td>\n",
              "      <td>1.403</td>\n",
              "      <td>1.403</td>\n",
              "      <td>1.403</td>\n",
              "      <td>1.201</td>\n",
              "      <td>1.201</td>\n",
              "      <td>1.201</td>\n",
              "      <td>1.201</td>\n",
              "      <td>1.201</td>\n",
              "      <td>1.201</td>\n",
              "    </tr>\n",
              "    <tr>\n",
              "      <th>...</th>\n",
              "      <td>...</td>\n",
              "      <td>...</td>\n",
              "      <td>...</td>\n",
              "      <td>...</td>\n",
              "      <td>...</td>\n",
              "      <td>...</td>\n",
              "      <td>...</td>\n",
              "      <td>...</td>\n",
              "      <td>...</td>\n",
              "      <td>...</td>\n",
              "      <td>...</td>\n",
              "      <td>...</td>\n",
              "      <td>...</td>\n",
              "      <td>...</td>\n",
              "      <td>...</td>\n",
              "      <td>...</td>\n",
              "      <td>...</td>\n",
              "      <td>...</td>\n",
              "    </tr>\n",
              "    <tr>\n",
              "      <th>158</th>\n",
              "      <td>Vietnam</td>\n",
              "      <td>VNM</td>\n",
              "      <td>1.302</td>\n",
              "      <td>1.302</td>\n",
              "      <td>1.302</td>\n",
              "      <td>1.302</td>\n",
              "      <td>1.302</td>\n",
              "      <td>1.403</td>\n",
              "      <td>1.403</td>\n",
              "      <td>1.403</td>\n",
              "      <td>1.403</td>\n",
              "      <td>1.421</td>\n",
              "      <td>1.421</td>\n",
              "      <td>1.421</td>\n",
              "      <td>1.421</td>\n",
              "      <td>1.421</td>\n",
              "      <td>1.403</td>\n",
              "      <td>1.403</td>\n",
              "    </tr>\n",
              "    <tr>\n",
              "      <th>159</th>\n",
              "      <td>Yemen</td>\n",
              "      <td>YEM</td>\n",
              "      <td>2.012</td>\n",
              "      <td>2.012</td>\n",
              "      <td>2.201</td>\n",
              "      <td>2.233</td>\n",
              "      <td>2.261</td>\n",
              "      <td>2.474</td>\n",
              "      <td>2.543</td>\n",
              "      <td>2.596</td>\n",
              "      <td>2.964</td>\n",
              "      <td>3.417</td>\n",
              "      <td>3.368</td>\n",
              "      <td>3.603</td>\n",
              "      <td>3.501</td>\n",
              "      <td>3.377</td>\n",
              "      <td>3.354</td>\n",
              "      <td>3.486</td>\n",
              "    </tr>\n",
              "    <tr>\n",
              "      <th>160</th>\n",
              "      <td>South Africa</td>\n",
              "      <td>ZAF</td>\n",
              "      <td>1.403</td>\n",
              "      <td>1.805</td>\n",
              "      <td>1.805</td>\n",
              "      <td>1.805</td>\n",
              "      <td>1.805</td>\n",
              "      <td>1.805</td>\n",
              "      <td>1.805</td>\n",
              "      <td>1.906</td>\n",
              "      <td>1.760</td>\n",
              "      <td>1.760</td>\n",
              "      <td>1.760</td>\n",
              "      <td>1.824</td>\n",
              "      <td>1.772</td>\n",
              "      <td>1.745</td>\n",
              "      <td>1.818</td>\n",
              "      <td>2.083</td>\n",
              "    </tr>\n",
              "    <tr>\n",
              "      <th>161</th>\n",
              "      <td>Zambia</td>\n",
              "      <td>ZMB</td>\n",
              "      <td>1.201</td>\n",
              "      <td>1.201</td>\n",
              "      <td>1.201</td>\n",
              "      <td>1.000</td>\n",
              "      <td>1.000</td>\n",
              "      <td>1.000</td>\n",
              "      <td>1.201</td>\n",
              "      <td>1.201</td>\n",
              "      <td>1.220</td>\n",
              "      <td>1.238</td>\n",
              "      <td>1.238</td>\n",
              "      <td>1.256</td>\n",
              "      <td>1.286</td>\n",
              "      <td>1.700</td>\n",
              "      <td>1.520</td>\n",
              "      <td>1.577</td>\n",
              "    </tr>\n",
              "    <tr>\n",
              "      <th>162</th>\n",
              "      <td>Zimbabwe</td>\n",
              "      <td>ZWE</td>\n",
              "      <td>2.006</td>\n",
              "      <td>2.308</td>\n",
              "      <td>2.261</td>\n",
              "      <td>2.012</td>\n",
              "      <td>2.012</td>\n",
              "      <td>2.058</td>\n",
              "      <td>1.857</td>\n",
              "      <td>1.851</td>\n",
              "      <td>1.851</td>\n",
              "      <td>1.851</td>\n",
              "      <td>1.805</td>\n",
              "      <td>2.006</td>\n",
              "      <td>2.006</td>\n",
              "      <td>2.006</td>\n",
              "      <td>2.006</td>\n",
              "      <td>2.006</td>\n",
              "    </tr>\n",
              "  </tbody>\n",
              "</table>\n",
              "<p>163 rows × 18 columns</p>\n",
              "</div>\n",
              "      <button class=\"colab-df-convert\" onclick=\"convertToInteractive('df-0c8a14e0-37ec-4a6d-966f-5f0e8840cae5')\"\n",
              "              title=\"Convert this dataframe to an interactive table.\"\n",
              "              style=\"display:none;\">\n",
              "        \n",
              "  <svg xmlns=\"http://www.w3.org/2000/svg\" height=\"24px\"viewBox=\"0 0 24 24\"\n",
              "       width=\"24px\">\n",
              "    <path d=\"M0 0h24v24H0V0z\" fill=\"none\"/>\n",
              "    <path d=\"M18.56 5.44l.94 2.06.94-2.06 2.06-.94-2.06-.94-.94-2.06-.94 2.06-2.06.94zm-11 1L8.5 8.5l.94-2.06 2.06-.94-2.06-.94L8.5 2.5l-.94 2.06-2.06.94zm10 10l.94 2.06.94-2.06 2.06-.94-2.06-.94-.94-2.06-.94 2.06-2.06.94z\"/><path d=\"M17.41 7.96l-1.37-1.37c-.4-.4-.92-.59-1.43-.59-.52 0-1.04.2-1.43.59L10.3 9.45l-7.72 7.72c-.78.78-.78 2.05 0 2.83L4 21.41c.39.39.9.59 1.41.59.51 0 1.02-.2 1.41-.59l7.78-7.78 2.81-2.81c.8-.78.8-2.07 0-2.86zM5.41 20L4 18.59l7.72-7.72 1.47 1.35L5.41 20z\"/>\n",
              "  </svg>\n",
              "      </button>\n",
              "      \n",
              "  <style>\n",
              "    .colab-df-container {\n",
              "      display:flex;\n",
              "      flex-wrap:wrap;\n",
              "      gap: 12px;\n",
              "    }\n",
              "\n",
              "    .colab-df-convert {\n",
              "      background-color: #E8F0FE;\n",
              "      border: none;\n",
              "      border-radius: 50%;\n",
              "      cursor: pointer;\n",
              "      display: none;\n",
              "      fill: #1967D2;\n",
              "      height: 32px;\n",
              "      padding: 0 0 0 0;\n",
              "      width: 32px;\n",
              "    }\n",
              "\n",
              "    .colab-df-convert:hover {\n",
              "      background-color: #E2EBFA;\n",
              "      box-shadow: 0px 1px 2px rgba(60, 64, 67, 0.3), 0px 1px 3px 1px rgba(60, 64, 67, 0.15);\n",
              "      fill: #174EA6;\n",
              "    }\n",
              "\n",
              "    [theme=dark] .colab-df-convert {\n",
              "      background-color: #3B4455;\n",
              "      fill: #D2E3FC;\n",
              "    }\n",
              "\n",
              "    [theme=dark] .colab-df-convert:hover {\n",
              "      background-color: #434B5C;\n",
              "      box-shadow: 0px 1px 3px 1px rgba(0, 0, 0, 0.15);\n",
              "      filter: drop-shadow(0px 1px 2px rgba(0, 0, 0, 0.3));\n",
              "      fill: #FFFFFF;\n",
              "    }\n",
              "  </style>\n",
              "\n",
              "      <script>\n",
              "        const buttonEl =\n",
              "          document.querySelector('#df-0c8a14e0-37ec-4a6d-966f-5f0e8840cae5 button.colab-df-convert');\n",
              "        buttonEl.style.display =\n",
              "          google.colab.kernel.accessAllowed ? 'block' : 'none';\n",
              "\n",
              "        async function convertToInteractive(key) {\n",
              "          const element = document.querySelector('#df-0c8a14e0-37ec-4a6d-966f-5f0e8840cae5');\n",
              "          const dataTable =\n",
              "            await google.colab.kernel.invokeFunction('convertToInteractive',\n",
              "                                                     [key], {});\n",
              "          if (!dataTable) return;\n",
              "\n",
              "          const docLinkHtml = 'Like what you see? Visit the ' +\n",
              "            '<a target=\"_blank\" href=https://colab.research.google.com/notebooks/data_table.ipynb>data table notebook</a>'\n",
              "            + ' to learn more about interactive tables.';\n",
              "          element.innerHTML = '';\n",
              "          dataTable['output_type'] = 'display_data';\n",
              "          await google.colab.output.renderOutput(dataTable, element);\n",
              "          const docLink = document.createElement('div');\n",
              "          docLink.innerHTML = docLinkHtml;\n",
              "          element.appendChild(docLink);\n",
              "        }\n",
              "      </script>\n",
              "    </div>\n",
              "  </div>\n",
              "  "
            ]
          },
          "metadata": {},
          "execution_count": 13
        }
      ]
    },
    {
      "cell_type": "markdown",
      "source": [
        "Сформулируем гипотезу:\n",
        "\n",
        "H0: Мир стал менее миролюбив в 2021 году, в сравнении с 2018 годом\n",
        "\n",
        "H1: Мир стал более миролюбив в 2021 году, в сравнении с 2018 годом"
      ],
      "metadata": {
        "id": "AMTWvfrfZBKl"
      }
    },
    {
      "cell_type": "markdown",
      "source": [
        "Найдем самую счастливую страну в 2021 году:"
      ],
      "metadata": {
        "id": "CSQi-viZdjsC"
      }
    },
    {
      "cell_type": "code",
      "source": [
        "def find_happiest(df: pd.DataFrame, year: str)-> str:\n",
        "  return df[df[year] == df[year].min()]['Country'].values[0]\n",
        "for y in [str(i) for i in range(2008, 2024, 1)]:\n",
        "  happiest_country = find_happiest(df_data, y)\n",
        "  print(f\"Самая миролюбивая страна в {y} году это {happiest_country}\")"
      ],
      "metadata": {
        "colab": {
          "base_uri": "https://localhost:8080/"
        },
        "id": "5GK_cEeUZLj9",
        "outputId": "5e376dcf-3b59-4724-b7fb-58a9d57f3625"
      },
      "execution_count": null,
      "outputs": [
        {
          "output_type": "stream",
          "name": "stdout",
          "text": [
            "Самая миролюбивая страна в 2008 году это United Arab Emirates\n",
            "Самая миролюбивая страна в 2009 году это United Arab Emirates\n",
            "Самая миролюбивая страна в 2010 году это United Arab Emirates\n",
            "Самая миролюбивая страна в 2011 году это Botswana\n",
            "Самая миролюбивая страна в 2012 году это Botswana\n",
            "Самая миролюбивая страна в 2013 году это Botswana\n",
            "Самая миролюбивая страна в 2014 году это Botswana\n",
            "Самая миролюбивая страна в 2015 году это Botswana\n",
            "Самая миролюбивая страна в 2016 году это Botswana\n",
            "Самая миролюбивая страна в 2017 году это Botswana\n",
            "Самая миролюбивая страна в 2018 году это Botswana\n",
            "Самая миролюбивая страна в 2019 году это Botswana\n",
            "Самая миролюбивая страна в 2020 году это Botswana\n",
            "Самая миролюбивая страна в 2021 году это Bulgaria\n",
            "Самая миролюбивая страна в 2022 году это Bulgaria\n",
            "Самая миролюбивая страна в 2023 году это Iceland\n"
          ]
        }
      ]
    },
    {
      "cell_type": "code",
      "source": [
        "med_happy_lvl = []\n",
        "for y in [str(i) for i in range(2008, 2024, 1)]:\n",
        "  med_happy_lvl.append(df_data[y].median())\n",
        "\n",
        "fig, ax = plt.subplots(figsize=(15,5), dpi= 80)\n",
        "ax.scatter(y= np.array(med_happy_lvl), x = np.array(df_data.columns[2:].values) , s=75, color='firebrick', alpha=0.7)\n",
        "\n",
        "ax.set_title('Становимся ли мы миролюбивее?', fontdict={'size':22})\n",
        "ax.set_xlabel('Год')\n",
        "ax.set_xticks(df_data.columns[2:].values)\n",
        "plt.show()"
      ],
      "metadata": {
        "colab": {
          "base_uri": "https://localhost:8080/",
          "height": 400
        },
        "id": "ZlGwOXrdd1gH",
        "outputId": "9e786abe-7b2a-4859-b0d2-e68142ba879a"
      },
      "execution_count": null,
      "outputs": [
        {
          "output_type": "display_data",
          "data": {
            "text/plain": [
              "<Figure size 1200x400 with 1 Axes>"
            ],
            "image/png": "[encoded data removed]"
          },
          "metadata": {}
        }
      ]
    },
    {
      "cell_type": "markdown",
      "source": [
        "Очевидлно, что нет, мы только становимся более жестокими\n",
        "\n",
        "Проверим насколько коррелирует уровень миролюбия в 2018 и 2021 годах"
      ],
      "metadata": {
        "id": "pX8onsnMk_mV"
      }
    },
    {
      "cell_type": "code",
      "source": [
        "r, _ = stats.pearsonr(df_data['2018'].values, df_data['2021'].values)\n",
        "print(f\"Коэффициент корреляции по Пирсону {np.round(r,2)}\")"
      ],
      "metadata": {
        "colab": {
          "base_uri": "https://localhost:8080/"
        },
        "id": "iRQWu0nAcjXz",
        "outputId": "347e9343-c1bc-4225-c02f-e877531f0659"
      },
      "execution_count": null,
      "outputs": [
        {
          "output_type": "stream",
          "name": "stdout",
          "text": [
            "Коэффициент корреляции по Пирсону 0.96\n"
          ]
        }
      ]
    },
    {
      "cell_type": "markdown",
      "source": [
        "Будем считать, что везде мир сходит с ума одинаково. Тут уже можно сделать выводы о том, что в 2018 была более мирная жизнь, но мы обратимся к статистике\n",
        "\n",
        "Для применения t-test нужно выполнение двух условий:\n",
        "- Нормальное распределение величины (проверим по притерию Шапиро)\n",
        "-  σX ≈ σY\n"
      ],
      "metadata": {
        "id": "UVOimTsQmM3O"
      }
    },
    {
      "cell_type": "code",
      "source": [
        "def AB_test(dataA: np.ndarray, dataB: np.ndarray) -> float:\n",
        "    shapiroA = stats.shapiro(dataA)[1]\n",
        "    shapiroB = stats.shapiro(dataB)[1]\n",
        "\n",
        "    if (shapiroA == False) & (shapiroB == False):\n",
        "        p_val = stats.ttest_ind(dataA, dataB)[1]\n",
        "    else:\n",
        "        p_val = stats.mannwhitneyu(dataA, dataB)[1]\n",
        "\n",
        "    sns.kdeplot(dataA, color=\"orange\", label=\"dataA\", alpha=.7)\n",
        "    sns.kdeplot(dataB, color=\"blue\", label=\"dataB\", alpha=.7)\n",
        "    plt.legend()\n",
        "    plt.show()\n",
        "\n",
        "    if p_val < 0.05:\n",
        "      print(f\"H0 не подтвердилась\")\n",
        "    else:\n",
        "      print(f\"H0 подтвердилась\")\n",
        "\n",
        "    return p_val"
      ],
      "metadata": {
        "id": "EypXHhCDmMqV"
      },
      "execution_count": null,
      "outputs": []
    },
    {
      "cell_type": "code",
      "source": [
        "a = df_data['2021'].values\n",
        "b = df_data['2018'].values\n",
        "print(f\"P-value : {np.round(AB_test(a,b),4)}\")"
      ],
      "metadata": {
        "colab": {
          "base_uri": "https://localhost:8080/",
          "height": 465
        },
        "id": "0yvzZ1RvoVCK",
        "outputId": "6bc7dbcb-e450-40e9-e884-16df36f3fc30"
      },
      "execution_count": null,
      "outputs": [
        {
          "output_type": "display_data",
          "data": {
            "text/plain": [
              "<Figure size 640x480 with 1 Axes>"
            ],
            "image/png": "[encoded data removed]"
          },
          "metadata": {}
        },
        {
          "output_type": "stream",
          "name": "stdout",
          "text": [
            "H0 подтвердилась\n",
            "P-value : 0.7684\n"
          ]
        }
      ]
    },
    {
      "cell_type": "markdown",
      "source": [
        "В 2021 году стало жить менее спокойно, чем в 2018"
      ],
      "metadata": {
        "id": "JpCBdU-HtD4L"
      }
    },
    {
      "cell_type": "markdown",
      "source": [
        "Проверим новую гипотезу:\n",
        "\n",
        "H0: На руси жить хорошо (лучше , чем в Исландии)\n",
        "\n",
        "H1: Это не так, в Исландии лучше\n"
      ],
      "metadata": {
        "id": "uQx8Yo_Ut3UI"
      }
    },
    {
      "cell_type": "code",
      "source": [
        "a = list(df_data[df_data['Country'] == 'Iceland'].values[0][2:])\n",
        "b = list(df_data[df_data['Country'] == 'Russia'].values[0][2:])\n",
        "print(f\"P-value : {np.round(AB_test(a,b),4)}\")"
      ],
      "metadata": {
        "colab": {
          "base_uri": "https://localhost:8080/",
          "height": 465
        },
        "id": "Us-qjtp2pJAh",
        "outputId": "2b8a208e-d736-4320-d97b-d6547d730ea8"
      },
      "execution_count": null,
      "outputs": [
        {
          "output_type": "display_data",
          "data": {
            "text/plain": [
              "<Figure size 640x480 with 1 Axes>"
            ],
            "image/png": "[encoded data removed]"
          },
          "metadata": {}
        },
        {
          "output_type": "stream",
          "name": "stdout",
          "text": [
            "H0 не подтвердилась\n",
            "P-value : 0.0\n"
          ]
        }
      ]
    },
    {
      "cell_type": "markdown",
      "source": [
        "Примечания: в ДЗ сравниваются страны по  \"Global Peace Index\", то есть проверяется сходимость двух выборок данных"
      ],
      "metadata": {
        "id": "iSgGsueYwFTg"
      }
    }
  ]
}