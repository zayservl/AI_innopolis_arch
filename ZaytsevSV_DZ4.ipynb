{
  "nbformat": 4,
  "nbformat_minor": 0,
  "metadata": {
    "colab": {
      "provenance": []
    },
    "kernelspec": {
      "name": "python3",
      "display_name": "Python 3"
    },
    "language_info": {
      "name": "python"
    }
  },
  "cells": [
    {
      "cell_type": "code",
      "source": [
        "import numpy as np"
      ],
      "metadata": {
        "id": "IAdLh8yvPJel"
      },
      "execution_count": null,
      "outputs": []
    },
    {
      "cell_type": "markdown",
      "source": [
        "Задание 1"
      ],
      "metadata": {
        "id": "XnX3VtcMPCoq"
      }
    },
    {
      "cell_type": "code",
      "execution_count": null,
      "metadata": {
        "colab": {
          "base_uri": "https://localhost:8080/"
        },
        "id": "R7jOsbuTO967",
        "outputId": "c4150023-5a49-4c34-cedb-811f86ab690b"
      },
      "outputs": [
        {
          "output_type": "stream",
          "name": "stdout",
          "text": [
            "A+2B = \n",
            "[[7 1]\n",
            " [0 2]\n",
            " [5 9]]\n",
            "\n",
            "B+2C = \n",
            "[[-1  5]\n",
            " [ 1 -2]\n",
            " [ 4  8]]\n",
            "\n"
          ]
        }
      ],
      "source": [
        "A = np.array(\n",
        "[[1,2,1],\n",
        "[-1,2,1]]\n",
        ")\n",
        "B = np.array(\n",
        "    [[3,1],\n",
        "    [-1,0],\n",
        "    [2,4]]\n",
        ")\n",
        "C = np.array(\n",
        "    [[-2,2],\n",
        "     [1,-1],\n",
        "      [1,2]]\n",
        ")\n",
        "print(f\"A+2B = \\n{A.T + 2*B}\\n\")\n",
        "print(f\"B+2C = \\n{B + 2*C}\\n\")\n"
      ]
    },
    {
      "cell_type": "markdown",
      "source": [
        "Задание 2"
      ],
      "metadata": {
        "id": "Z5ayH2-qQyFn"
      }
    },
    {
      "cell_type": "code",
      "source": [
        "a = np.zeros([8,8])\n",
        "a[::2,::2]=1\n",
        "a[1::2,1::2]=1\n",
        "print(a)"
      ],
      "metadata": {
        "colab": {
          "base_uri": "https://localhost:8080/"
        },
        "id": "Q5fJQMSJQze-",
        "outputId": "be0b0e15-998d-4092-cd09-3288463aeb37"
      },
      "execution_count": null,
      "outputs": [
        {
          "output_type": "stream",
          "name": "stdout",
          "text": [
            "[[1. 0. 1. 0. 1. 0. 1. 0.]\n",
            " [0. 1. 0. 1. 0. 1. 0. 1.]\n",
            " [1. 0. 1. 0. 1. 0. 1. 0.]\n",
            " [0. 1. 0. 1. 0. 1. 0. 1.]\n",
            " [1. 0. 1. 0. 1. 0. 1. 0.]\n",
            " [0. 1. 0. 1. 0. 1. 0. 1.]\n",
            " [1. 0. 1. 0. 1. 0. 1. 0.]\n",
            " [0. 1. 0. 1. 0. 1. 0. 1.]]\n"
          ]
        }
      ]
    },
    {
      "cell_type": "markdown",
      "source": [
        "Задание 3"
      ],
      "metadata": {
        "id": "b03cEsDmSnuR"
      }
    },
    {
      "cell_type": "code",
      "source": [
        "vec1= np.linspace(0, 1.4, num=15)\n",
        "vec2= np.linspace(1, 6, num=6)\n",
        "print(f\"vec1: {vec1} \\nvec2: {vec2}\\n\")\n",
        "\n",
        "print(f\"Result: \\n{np.dot(np.reshape(vec1, [5,3]), np.reshape(vec2, [3,2]))}\")"
      ],
      "metadata": {
        "colab": {
          "base_uri": "https://localhost:8080/"
        },
        "id": "m2yMAHu8SpjV",
        "outputId": "7bdbb98b-fb90-4668-bcf4-4b41acada0c4"
      },
      "execution_count": null,
      "outputs": [
        {
          "output_type": "stream",
          "name": "stdout",
          "text": [
            "vec1: [0.  0.1 0.2 0.3 0.4 0.5 0.6 0.7 0.8 0.9 1.  1.1 1.2 1.3 1.4] \n",
            "vec2: [1. 2. 3. 4. 5. 6.]\n",
            "\n",
            "Result: \n",
            "[[ 1.3  1.6]\n",
            " [ 4.   5.2]\n",
            " [ 6.7  8.8]\n",
            " [ 9.4 12.4]\n",
            " [12.1 16. ]]\n"
          ]
        }
      ]
    },
    {
      "cell_type": "markdown",
      "source": [
        "Задание 4"
      ],
      "metadata": {
        "id": "G1G06F90T9UB"
      }
    },
    {
      "cell_type": "code",
      "source": [
        "vec = np.arange(1,36*2+1,2).astype(np.int32)\n",
        "print(f\"len of array: {len(vec)} \\nType of array element: {type(vec[0])}\")"
      ],
      "metadata": {
        "colab": {
          "base_uri": "https://localhost:8080/"
        },
        "id": "M7DSWqKvT9IT",
        "outputId": "8b2b6c8e-dc00-4bda-e410-e7d02581adf3"
      },
      "execution_count": null,
      "outputs": [
        {
          "output_type": "stream",
          "name": "stdout",
          "text": [
            "len of array: 36 \n",
            "Type of array element: <class 'numpy.int32'>\n"
          ]
        }
      ]
    },
    {
      "cell_type": "code",
      "source": [
        "print(f\"Initial vec: {vec} \\nVec %3 == 0: {vec[np.where(vec % 3 == 0)]}\")"
      ],
      "metadata": {
        "colab": {
          "base_uri": "https://localhost:8080/"
        },
        "id": "aHFreMVgTxA9",
        "outputId": "4d6ecc20-81af-476d-ae39-b2fbea470cca"
      },
      "execution_count": null,
      "outputs": [
        {
          "output_type": "stream",
          "name": "stdout",
          "text": [
            "Initial vec: [ 1  3  5  7  9 11 13 15 17 19 21 23 25 27 29 31 33 35 37 39 41 43 45 47\n",
            " 49 51 53 55 57 59 61 63 65 67 69 71] \n",
            "Vec %3 == 0: [ 3  9 15 21 27 33 39 45 51 57 63 69]\n"
          ]
        }
      ]
    }
  ]
}