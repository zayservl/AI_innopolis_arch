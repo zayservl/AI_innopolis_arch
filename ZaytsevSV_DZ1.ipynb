{
  "nbformat": 4,
  "nbformat_minor": 0,
  "metadata": {
    "colab": {
      "provenance": []
    },
    "kernelspec": {
      "name": "python3",
      "display_name": "Python 3"
    },
    "language_info": {
      "name": "python"
    }
  },
  "cells": [
    {
      "cell_type": "code",
      "source": [
        "def matrix_mult(a: list, b:list):\n",
        "  n_lines = len(a)\n",
        "  n_col = len(b[0])\n",
        "  res = [[0 for i in range(n_col)] for j in range(n_lines)]\n",
        "  for i in range(n_lines):\n",
        "    for j in range(n_col):\n",
        "      for k in range(len(a[i])):\n",
        "        res[i][j] += a[i][k]*b[k][j]\n",
        "  return res"
      ],
      "metadata": {
        "id": "olLvd5RQRVyR"
      },
      "execution_count": null,
      "outputs": []
    },
    {
      "cell_type": "code",
      "source": [
        "a = [[6,-8,3]]\n",
        "b = [[1],[1],[4]]\n",
        "print(matrix_mult(a,b))"
      ],
      "metadata": {
        "colab": {
          "base_uri": "https://localhost:8080/"
        },
        "id": "fC1S7LeyddiE",
        "outputId": "4424efea-0f96-4f16-b393-53c82c2a9206"
      },
      "execution_count": null,
      "outputs": [
        {
          "output_type": "stream",
          "name": "stdout",
          "text": [
            "[[10]]\n"
          ]
        }
      ]
    },
    {
      "cell_type": "code",
      "source": [
        "a = [[-3,7],[-10,6],[0,-6],[-1,-3]]\n",
        "b = [[-8,9],[4,-2]]\n",
        "print(matrix_mult(a,b))\n"
      ],
      "metadata": {
        "colab": {
          "base_uri": "https://localhost:8080/"
        },
        "id": "9MV21IGhdouS",
        "outputId": "0771781c-c5b8-4d9a-8882-e41f3b23deec"
      },
      "execution_count": null,
      "outputs": [
        {
          "output_type": "stream",
          "name": "stdout",
          "text": [
            "[[52, -41], [104, -102], [-24, 12], [-4, -3]]\n"
          ]
        }
      ]
    }
  ]
}